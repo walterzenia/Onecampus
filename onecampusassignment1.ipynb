{
  "nbformat": 4,
  "nbformat_minor": 0,
  "metadata": {
    "colab": {
      "name": "onecampusassignment1.ipynb",
      "provenance": [],
      "collapsed_sections": []
    },
    "kernelspec": {
      "name": "python3",
      "display_name": "Python 3"
    },
    "language_info": {
      "name": "python"
    }
  },
  "cells": [
    {
      "cell_type": "code",
      "execution_count": 1,
      "metadata": {
        "colab": {
          "base_uri": "https://localhost:8080/"
        },
        "id": "hKhnof1mifFl",
        "outputId": "866cc97b-4f51-4e34-c54c-975a907dfc63"
      },
      "outputs": [
        {
          "output_type": "stream",
          "name": "stdout",
          "text": [
            "{'Joy': (76, 72, 75), 'Agatha': (56, 86, 66), 'Mary': (78, 70, 77), 'Frank': (98, 98, 45), 'Godwin': (88, 89, 83), 'Chizulum': (75, 79, 75), 'Enoc': (59, 69, 59), 'Chinedu': (80, 50, 40), 'Kenneth': (45, 85, 65), 'Lukas': (30, 80, 90)}\n",
            "(76, 72, 75)\n",
            "(56, 86, 66)\n",
            "(78, 70, 77)\n",
            "(98, 98, 45)\n",
            "(88, 89, 83)\n",
            "(75, 79, 75)\n",
            "(59, 69, 59)\n",
            "(80, 50, 40)\n",
            "(45, 85, 65)\n",
            "(30, 80, 90)\n"
          ]
        }
      ],
      "source": [
        "# Create a single dictionary to hold the following information\n",
        "# show how to access each students' exam subject scores\n",
        "subject =['Chem', 'Phy', 'Math']\n",
        "students = ['Joy', 'Agatha', 'Mary', 'Frank', 'Godwin', 'Chizulum', 'Enoc', 'Chinedu', 'Kenneth', 'Lukas']\n",
        "math = [76,56,78,98,88,75,59,80,45,30]\n",
        "phy = [72,86,70,98,89,79,69,50,85,80]\n",
        "chem = [75,66,77,45,83,75,59,40,65,90]\n",
        "\n",
        "my_dictionary = dict()\n",
        "for a, b, c, d,  in zip(students, math, phy, chem ):\n",
        "    my_dictionary[a] = b, c, d, \n",
        "print(my_dictionary)\n",
        "print(my_dictionary.get('Joy'))\n",
        "print(my_dictionary.get('Agatha'))\n",
        "print(my_dictionary.get('Mary'))\n",
        "print(my_dictionary.get('Frank'))\n",
        "print(my_dictionary.get('Godwin'))\n",
        "print(my_dictionary.get('Chizulum'))\n",
        "print(my_dictionary.get('Enoc'))\n",
        "print(my_dictionary.get('Chinedu'))\n",
        "print(my_dictionary.get('Kenneth'))\n",
        "print(my_dictionary.get('Lukas'))"
      ]
    }
  ]
}